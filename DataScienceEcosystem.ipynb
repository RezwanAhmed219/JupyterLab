{
 "cells": [
  {
   "cell_type": "markdown",
   "id": "0ee1fc85-aee7-4262-bd33-d706d78b819a",
   "metadata": {},
   "source": [
    "# Data Science Tools and Ecosystem"
   ]
  },
  {
   "cell_type": "markdown",
   "id": "3bf035fe-2f23-4b1f-831d-2d00f44db02e",
   "metadata": {},
   "source": [
    "In this notebook, Data Science Tools and Ecosystem are summarized."
   ]
  },
  {
   "cell_type": "markdown",
   "id": "9c997881-8469-4212-b9ac-4975e107c54a",
   "metadata": {},
   "source": [
    "Some of the popular languages that Data Scientists use are:\n",
    "1. Python\n",
    "2. SQL\n",
    "3. Statistics"
   ]
  },
  {
   "cell_type": "markdown",
   "id": "ac0d2a72-bef7-4835-8886-f1a31d734d26",
   "metadata": {},
   "source": [
    "Some of the commonly used libraries used by Data Scientists include:\n",
    "1. Pandas\n",
    "2. Numpy\n",
    "3. Matplotlib"
   ]
  },
  {
   "cell_type": "markdown",
   "id": "002aae0d-dfc3-4670-b2fb-f71658fc981f",
   "metadata": {},
   "source": [
    "**Objectives:**\n",
    "\n",
    "- Concepts of Data Science\n",
    "- Different platforms to use\n",
    "- Applications"
   ]
  },
  {
   "cell_type": "markdown",
   "id": "65d1f2f4-c011-4bbc-b454-3c7f8c69d427",
   "metadata": {},
   "source": [
    "| Data Science Tools       |\n",
    "|--------------------------|\n",
    "| Jupyter Notebook         |\n",
    "| RStudio                  |\n",
    "| Apache Zeppelin          |"
   ]
  },
  {
   "cell_type": "markdown",
   "id": "5f2a4fab-eef6-49f1-8f03-e8e64a36edf5",
   "metadata": {},
   "source": [
    "### Below are a few examples of evaluating arithmetic expressions in Python.\n",
    "\n",
    "- 2+2=4\n",
    "- 2*3=6\n",
    "- 6/3=2"
   ]
  },
  {
   "cell_type": "code",
   "execution_count": 2,
   "id": "9e32d43c-ae1c-448b-8567-f6f31ded1db3",
   "metadata": {},
   "outputs": [
    {
     "data": {
      "text/plain": [
       "17"
      ]
     },
     "execution_count": 2,
     "metadata": {},
     "output_type": "execute_result"
    }
   ],
   "source": [
    "# This a simple arithmetic expression to mutiply then add integers\n",
    "(3*4)+5"
   ]
  },
  {
   "cell_type": "code",
   "execution_count": 4,
   "id": "ba0fcc1d-47c7-44c1-8657-83488a18fcda",
   "metadata": {},
   "outputs": [
    {
     "data": {
      "text/plain": [
       "3.3333333333333335"
      ]
     },
     "execution_count": 4,
     "metadata": {},
     "output_type": "execute_result"
    }
   ],
   "source": [
    "# This will convert 200 minutes to hours by diving by 60\n",
    "\n",
    "mins = 200\n",
    "hrs = mins / 60\n",
    "hrs"
   ]
  },
  {
   "cell_type": "markdown",
   "id": "be084b0f-58be-4634-bcb5-aaa7b1e999cb",
   "metadata": {},
   "source": [
    "## Author\n",
    "\n",
    "Rezwan Ahmed"
   ]
  },
  {
   "cell_type": "code",
   "execution_count": null,
   "id": "81b5f79d-ca42-41ec-b8eb-cdcb14a8655f",
   "metadata": {},
   "outputs": [],
   "source": []
  }
 ],
 "metadata": {
  "kernelspec": {
   "display_name": "Python 3 (ipykernel)",
   "language": "python",
   "name": "python3"
  },
  "language_info": {
   "codemirror_mode": {
    "name": "ipython",
    "version": 3
   },
   "file_extension": ".py",
   "mimetype": "text/x-python",
   "name": "python",
   "nbconvert_exporter": "python",
   "pygments_lexer": "ipython3",
   "version": "3.9.13"
  }
 },
 "nbformat": 4,
 "nbformat_minor": 5
}
